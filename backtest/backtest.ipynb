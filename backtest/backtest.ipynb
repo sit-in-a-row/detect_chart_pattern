{
 "cells": [
  {
   "cell_type": "code",
   "execution_count": 1,
   "metadata": {},
   "outputs": [],
   "source": [
    "import numpy as np\n",
    "from sklearn.preprocessing import MinMaxScaler\n",
    "from pykrx import stock\n",
    "import mplfinance as mpf\n",
    "\n",
    "# 예측을 위한 함수\n",
    "def predict_pattern(model, ohlcv_data, window_size=70):\n",
    "    \"\"\"\n",
    "    외부에서 입력받은 OHLCV 데이터를 기반으로 6개의 차트 패턴에 대한 확률을 예측하는 함수\n",
    "    :param model: 학습된 CNN-LSTM 모델\n",
    "    :param ohlcv_data: 새로운 OHLCV 데이터 (numpy 배열 형태로)\n",
    "    :param window_size: 모델이 사용한 윈도우 크기 (슬라이딩 윈도우 크기)\n",
    "    :return: 각 패턴에 속할 확률\n",
    "    \"\"\"\n",
    "    # OHLCV 데이터를 정규화 (외부 데이터)\n",
    "    scaler = MinMaxScaler()\n",
    "    scaled_data = scaler.fit_transform(ohlcv_data)\n",
    "\n",
    "    # 입력 데이터를 슬라이딩 윈도우로 변환\n",
    "    if len(scaled_data) < window_size:\n",
    "        raise ValueError(f\"Input data length should be at least {window_size}\")\n",
    "\n",
    "    input_data = np.array([scaled_data[-window_size:]])  # 최신 데이터로 슬라이딩 윈도우 생성\n",
    "    \n",
    "    # 모델 예측 (확률 반환)\n",
    "    predictions = model.predict(input_data)\n",
    "\n",
    "    # 6개의 클래스에 대한 확률 출력\n",
    "    return predictions[0]  # 예측된 확률\n",
    "\n",
    "# DataFrame 분할 함수\n",
    "def split_df(df, split_window):\n",
    "    df_length = len(df)\n",
    "\n",
    "    if df_length < split_window:\n",
    "        print(f'{split_window} 기준으로 분할할 수 없습니다! 현재 길이: {df_length}')\n",
    "    \n",
    "    final_df_list = []\n",
    "\n",
    "    for i in range(len(df) - split_window):\n",
    "        df_start_point = i\n",
    "        df_end_point = i + split_window\n",
    "        splited_df = df.iloc[df_start_point:df_end_point]\n",
    "        final_df_list.append(splited_df)\n",
    "\n",
    "    return final_df_list    "
   ]
  },
  {
   "cell_type": "code",
   "execution_count": 18,
   "metadata": {},
   "outputs": [
    {
     "name": "stderr",
     "output_type": "stream",
     "text": [
      "WARNING:absl:Compiled the loaded model, but the compiled metrics have yet to be built. `model.compile_metrics` will be empty until you train or evaluate the model.\n"
     ]
    },
    {
     "name": "stdout",
     "output_type": "stream",
     "text": [
      "Model loaded successfully from ../save_model/chart_pattern_model.h5\n"
     ]
    }
   ],
   "source": [
    "from tensorflow.keras.models import load_model\n",
    "\n",
    "# 모델 파일 경로\n",
    "model_path = '../save_model/chart_pattern_model.h5'\n",
    "\n",
    "# 모델 불러오기\n",
    "model = load_model(model_path)\n",
    "\n",
    "# 모델이 정상적으로 불러와졌는지 확인\n",
    "print(\"Model loaded successfully from\", model_path)"
   ]
  },
  {
   "cell_type": "code",
   "execution_count": null,
   "metadata": {},
   "outputs": [],
   "source": [
    "start_date = '20240101'\n",
    "end_date = '20240701'\n",
    "ticker = '005380'"
   ]
  },
  {
   "cell_type": "code",
   "execution_count": 24,
   "metadata": {},
   "outputs": [],
   "source": [
    "# 삼성전자 주식 데이터 불러오기 (열 이름 변경)\n",
    "df = stock.get_market_ohlcv(start_date, end_date, ticker).drop('등락률', axis=1)\n",
    "\n",
    "# 열 이름을 영어로 변경\n",
    "df.rename(columns={'시가': 'Open', '고가': 'High', '저가': 'Low', '종가': 'Close', '거래량': 'Volume'}, inplace=True)\n",
    "\n",
    "df_list = split_df(df, 70)\n",
    "\n",
    "patterns = ['ascending_triangle', 'descending_triangle', 'ascending_wedge', 'descending_wedge', 'double_top', 'double_bottom']\n",
    "\n",
    "for i in range(len(df_list)):\n",
    "    predicted_probabilities = predict_pattern(model, df_list[i])\n",
    "    which_pattern = list(predicted_probabilities).index(max(predicted_probabilities))\n",
    "\n",
    "    mpf.plot(df_list[i], type='candle', style='charles', title=f'Prediction: {patterns[which_pattern]} | Prob: {predicted_probabilities[which_pattern]:.4f}', figratio=(12, 8), figscale=1.0)\n",
    "\n",
    "    # 각 패턴에 속할 확률을 출력\n",
    "    for pattern, prob in zip(patterns, predicted_probabilities):\n",
    "        print(f\"Pattern: {pattern}, Probability: {prob:.4f}\")"
   ]
  },
  {
   "cell_type": "code",
   "execution_count": null,
   "metadata": {},
   "outputs": [],
   "source": []
  }
 ],
 "metadata": {
  "kernelspec": {
   "display_name": "finTF",
   "language": "python",
   "name": "python3"
  },
  "language_info": {
   "codemirror_mode": {
    "name": "ipython",
    "version": 3
   },
   "file_extension": ".py",
   "mimetype": "text/x-python",
   "name": "python",
   "nbconvert_exporter": "python",
   "pygments_lexer": "ipython3",
   "version": "3.10.14"
  },
  "orig_nbformat": 4
 },
 "nbformat": 4,
 "nbformat_minor": 2
}
